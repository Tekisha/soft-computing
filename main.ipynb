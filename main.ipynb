{
 "cells": [
  {
   "cell_type": "code",
   "execution_count": null,
   "metadata": {},
   "outputs": [],
   "source": [
    "if __name__ == \"__main__\":\n",
    "    # Parse arguments\n",
    "    parser = argparse.ArgumentParser(description='Process images from a dataset folder.')\n",
    "    parser.add_argument('dataset_folder', type=str, help='Path to the folder containing the dataset images')\n",
    "    args = parser.parse_args()\n",
    "\n",
    "    # Loop through the dataset folder and process each image\n",
    "    for filename in os.listdir(args.dataset_folder):\n",
    "        if filename.endswith(\".jpg\") or filename.endswith(\".png\"):\n",
    "            image_path = os.path.join(args.dataset_folder, filename)\n",
    "            print(f\"Processing {image_path}\")\n",
    "            process_image(image_path)"
   ]
  }
 ],
 "metadata": {
  "language_info": {
   "name": "python"
  }
 },
 "nbformat": 4,
 "nbformat_minor": 2
}
